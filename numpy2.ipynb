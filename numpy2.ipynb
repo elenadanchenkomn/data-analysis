{
 "cells": [
  {
   "cell_type": "code",
   "execution_count": 1,
   "metadata": {},
   "outputs": [],
   "source": [
    "import numpy as np"
   ]
  },
  {
   "cell_type": "code",
   "execution_count": 2,
   "metadata": {},
   "outputs": [],
   "source": [
    "a = np.random.rand(3,5)"
   ]
  },
  {
   "cell_type": "code",
   "execution_count": 3,
   "metadata": {},
   "outputs": [],
   "source": [
    "b = np.random.rand(5,3)"
   ]
  },
  {
   "cell_type": "code",
   "execution_count": 4,
   "metadata": {},
   "outputs": [
    {
     "data": {
      "text/plain": [
       "array([[0.04315346, 0.30098278, 0.76720154, 0.4611716 , 0.86912095],\n",
       "       [0.07610731, 0.49650617, 0.27404984, 0.64253347, 0.0421158 ],\n",
       "       [0.4989021 , 0.05974182, 0.82172882, 0.07163782, 0.9368119 ]])"
      ]
     },
     "execution_count": 4,
     "metadata": {},
     "output_type": "execute_result"
    }
   ],
   "source": [
    "a"
   ]
  },
  {
   "cell_type": "code",
   "execution_count": 5,
   "metadata": {},
   "outputs": [
    {
     "data": {
      "text/plain": [
       "array([[0.48003097, 0.03410149, 0.6144686 ],\n",
       "       [0.42506294, 0.37445842, 0.95336057],\n",
       "       [0.27286505, 0.18760146, 0.44871629],\n",
       "       [0.3239482 , 0.29177886, 0.49523347],\n",
       "       [0.51144213, 0.59185748, 0.54017471]])"
      ]
     },
     "execution_count": 5,
     "metadata": {},
     "output_type": "execute_result"
    }
   ],
   "source": [
    "b"
   ]
  },
  {
   "cell_type": "code",
   "execution_count": 6,
   "metadata": {},
   "outputs": [
    {
     "data": {
      "text/plain": [
       "array([[0.95189488, 0.90706111, 1.35558215],\n",
       "       [0.55204622, 0.45233268, 0.98403956],\n",
       "       [0.99143558, 0.76890319, 1.27375781]])"
      ]
     },
     "execution_count": 6,
     "metadata": {},
     "output_type": "execute_result"
    }
   ],
   "source": [
    "np.dot(a,b)#умножение матриц"
   ]
  },
  {
   "cell_type": "code",
   "execution_count": 7,
   "metadata": {},
   "outputs": [],
   "source": [
    "c = np.array([1,2,3])"
   ]
  },
  {
   "cell_type": "code",
   "execution_count": 8,
   "metadata": {},
   "outputs": [],
   "source": [
    "d = np.array([4,5,6])"
   ]
  },
  {
   "cell_type": "code",
   "execution_count": 9,
   "metadata": {},
   "outputs": [
    {
     "data": {
      "text/plain": [
       "32"
      ]
     },
     "execution_count": 9,
     "metadata": {},
     "output_type": "execute_result"
    }
   ],
   "source": [
    "np.inner(c,d)#1*4+2*5+3*6 скалярное умножение"
   ]
  },
  {
   "cell_type": "code",
   "execution_count": 10,
   "metadata": {},
   "outputs": [
    {
     "data": {
      "text/plain": [
       "array([[ 4,  5,  6],\n",
       "       [ 8, 10, 12],\n",
       "       [12, 15, 18]])"
      ]
     },
     "execution_count": 10,
     "metadata": {},
     "output_type": "execute_result"
    }
   ],
   "source": [
    "np.outer(c,d)#1*4,1*5,1*6; 2*4,2*5,2*6; 3*4,3*5,3*6 дикартово произведение"
   ]
  },
  {
   "cell_type": "code",
   "execution_count": 11,
   "metadata": {},
   "outputs": [
    {
     "data": {
      "text/plain": [
       "1.3613884549610167"
      ]
     },
     "execution_count": 11,
     "metadata": {},
     "output_type": "execute_result"
    }
   ],
   "source": [
    "np.trace(a)#след матрицы"
   ]
  },
  {
   "cell_type": "code",
   "execution_count": 15,
   "metadata": {},
   "outputs": [
    {
     "data": {
      "text/plain": [
       "-0.058160699419319936"
      ]
     },
     "execution_count": 15,
     "metadata": {},
     "output_type": "execute_result"
    }
   ],
   "source": [
    "e = np.random.rand(3,3)#определитель матрицы\n",
    "np.linalg.det(e)"
   ]
  },
  {
   "cell_type": "code",
   "execution_count": 16,
   "metadata": {},
   "outputs": [
    {
     "data": {
      "text/plain": [
       "(array([ 1.39338974, -0.20763992,  0.20102319]),\n",
       " array([[ 0.39177897,  0.82687763, -0.01022316],\n",
       "        [ 0.32857611, -0.12903472, -0.49564812],\n",
       "        [ 0.85938756, -0.54737868,  0.86846326]]))"
      ]
     },
     "execution_count": 16,
     "metadata": {},
     "output_type": "execute_result"
    }
   ],
   "source": [
    "np.linalg.eig(e)#возвращает собственные числа"
   ]
  },
  {
   "cell_type": "code",
   "execution_count": 17,
   "metadata": {},
   "outputs": [
    {
     "data": {
      "text/plain": [
       "array([ 4.23462332,  3.22349747, -4.22497902])"
      ]
     },
     "execution_count": 17,
     "metadata": {},
     "output_type": "execute_result"
    }
   ],
   "source": [
    "np.linalg.solve(e,c)#матричные уравнения"
   ]
  },
  {
   "cell_type": "code",
   "execution_count": null,
   "metadata": {},
   "outputs": [],
   "source": [
    "#ЛОГИЧЕСКИЕ ФУНКЦИИ"
   ]
  },
  {
   "cell_type": "code",
   "execution_count": 19,
   "metadata": {},
   "outputs": [],
   "source": [
    "a = np.array([[1,2,3,np.nan],[4,np.inf,5,np.NINF]])"
   ]
  },
  {
   "cell_type": "code",
   "execution_count": 20,
   "metadata": {},
   "outputs": [
    {
     "data": {
      "text/plain": [
       "True"
      ]
     },
     "execution_count": 20,
     "metadata": {},
     "output_type": "execute_result"
    }
   ],
   "source": [
    "np.all(a)#все ли значения истины"
   ]
  },
  {
   "cell_type": "code",
   "execution_count": 22,
   "metadata": {},
   "outputs": [
    {
     "data": {
      "text/plain": [
       "True"
      ]
     },
     "execution_count": 22,
     "metadata": {},
     "output_type": "execute_result"
    }
   ],
   "source": [
    "np.any(a)#имеются ли истинные значения"
   ]
  },
  {
   "cell_type": "code",
   "execution_count": 24,
   "metadata": {},
   "outputs": [
    {
     "data": {
      "text/plain": [
       "array([[False, False, False,  True],\n",
       "       [False, False, False, False]])"
      ]
     },
     "execution_count": 24,
     "metadata": {},
     "output_type": "execute_result"
    }
   ],
   "source": [
    "c = np.isnan(a)\n",
    "c"
   ]
  },
  {
   "cell_type": "code",
   "execution_count": 25,
   "metadata": {},
   "outputs": [],
   "source": [
    "b = a.copy()"
   ]
  },
  {
   "cell_type": "code",
   "execution_count": 26,
   "metadata": {},
   "outputs": [
    {
     "data": {
      "text/plain": [
       "array([[ True,  True,  True, False],\n",
       "       [ True,  True,  True,  True]])"
      ]
     },
     "execution_count": 26,
     "metadata": {},
     "output_type": "execute_result"
    }
   ],
   "source": [
    "a==b #сравнение массивов"
   ]
  },
  {
   "cell_type": "code",
   "execution_count": 29,
   "metadata": {},
   "outputs": [],
   "source": [
    "a = [1,2,3,4,5,6,7,8]"
   ]
  },
  {
   "cell_type": "code",
   "execution_count": 31,
   "metadata": {},
   "outputs": [
    {
     "data": {
      "text/plain": [
       "array([[[7, 2, 2, 8, 4],\n",
       "        [1, 5, 8, 3, 1],\n",
       "        [4, 2, 2, 7, 3]],\n",
       "\n",
       "       [[8, 4, 5, 7, 6],\n",
       "        [1, 5, 2, 5, 8],\n",
       "        [8, 6, 5, 7, 8]]])"
      ]
     },
     "execution_count": 31,
     "metadata": {},
     "output_type": "execute_result"
    }
   ],
   "source": [
    "np.random.choice(a,size = (2,3,5))#создает массив из указаного массива выбрав данные рандомно"
   ]
  },
  {
   "cell_type": "code",
   "execution_count": 32,
   "metadata": {},
   "outputs": [],
   "source": [
    "b = np.array([2,3,4,5,6,7,8,9])"
   ]
  },
  {
   "cell_type": "code",
   "execution_count": 35,
   "metadata": {},
   "outputs": [
    {
     "data": {
      "text/plain": [
       "array([9, 4, 8, 6, 3, 7, 2, 5])"
      ]
     },
     "execution_count": 35,
     "metadata": {},
     "output_type": "execute_result"
    }
   ],
   "source": [
    "np.random.shuffle(b)#рандомнон перемешивает массив\n",
    "b"
   ]
  },
  {
   "cell_type": "code",
   "execution_count": 36,
   "metadata": {},
   "outputs": [
    {
     "data": {
      "text/plain": [
       "0.7948869926426567"
      ]
     },
     "execution_count": 36,
     "metadata": {},
     "output_type": "execute_result"
    }
   ],
   "source": [
    "np.random.sample()"
   ]
  },
  {
   "cell_type": "code",
   "execution_count": 37,
   "metadata": {},
   "outputs": [
    {
     "data": {
      "text/plain": [
       "array([0.06762857, 0.42123718, 0.87451869, 0.77052042, 0.67730367])"
      ]
     },
     "execution_count": 37,
     "metadata": {},
     "output_type": "execute_result"
    }
   ],
   "source": [
    "np.random.sample(5)#генерирует случайную выборку от0до1 из занного количества элементов"
   ]
  },
  {
   "cell_type": "code",
   "execution_count": 38,
   "metadata": {},
   "outputs": [
    {
     "data": {
      "text/plain": [
       "array([6.07701736e+00, 5.33102113e+00, 4.75607638e+00, 5.96947972e+00,\n",
       "       7.51980947e+00, 4.17978287e+00, 4.43336814e+00, 4.43422061e+00,\n",
       "       3.45842532e+00, 3.89395167e+00, 5.64826354e+00, 1.08739504e-02,\n",
       "       3.63776307e+00, 8.69156529e+00, 3.08699871e-01, 7.79873804e+00,\n",
       "       3.34100553e+00, 6.74376978e+00, 1.06253847e+01, 4.57950824e+00,\n",
       "       7.93257489e+00, 2.09526159e+00, 4.73307611e+00, 3.71879890e+00,\n",
       "       5.02192668e-02, 4.52579829e+00, 7.02895086e+00, 9.30247776e+00,\n",
       "       2.34760541e-01, 6.83814332e+00, 5.56437267e+00, 6.11066174e+00,\n",
       "       3.21338601e+00, 4.11774019e+00, 4.47306468e+00, 2.76822263e+00,\n",
       "       1.05690466e+00, 4.41454309e+00, 4.91956122e+00, 7.83716898e+00,\n",
       "       8.86970914e+00, 5.71323823e+00, 2.33196591e+00, 6.81182385e+00,\n",
       "       2.86809455e+00, 5.77608814e+00, 6.36342372e+00, 4.08910847e+00,\n",
       "       1.09673023e+01, 8.17571038e+00, 2.86510970e+00, 7.07455995e+00,\n",
       "       5.75607026e+00, 6.22968036e+00, 6.27114171e+00, 2.69179946e+00,\n",
       "       7.20903676e+00, 3.23914108e+00, 4.11655295e+00, 4.99564717e+00,\n",
       "       4.46693702e+00, 1.78486603e+00, 6.63136078e+00, 2.95066903e+00,\n",
       "       3.09035364e+00, 4.86245461e+00, 5.76534303e+00, 6.59828169e+00,\n",
       "       5.79019844e+00, 3.85703667e+00, 9.40276372e-01, 6.11045698e+00,\n",
       "       7.28794504e+00, 2.70784800e+00, 3.68842680e+00, 1.01256461e+01,\n",
       "       5.39146333e+00, 1.12998465e+01, 8.14713189e+00, 4.95881789e+00,\n",
       "       5.10633521e+00, 5.92688956e+00, 4.69187284e+00, 4.85013387e+00,\n",
       "       8.20893882e+00, 6.40471009e+00, 4.78638072e+00, 2.21972736e+00,\n",
       "       4.45040651e+00, 8.83153960e+00, 8.60467917e+00, 3.95414765e+00,\n",
       "       4.92867467e+00, 4.50910580e+00, 5.22185921e+00, 6.64355255e+00,\n",
       "       2.96426625e+00, 7.65855167e-01, 5.62963138e+00, 4.78586813e+00])"
      ]
     },
     "execution_count": 38,
     "metadata": {},
     "output_type": "execute_result"
    }
   ],
   "source": [
    "np.random.normal(5,2.5,100)#генерирует стандартное распределение"
   ]
  },
  {
   "cell_type": "code",
   "execution_count": 39,
   "metadata": {},
   "outputs": [
    {
     "data": {
      "text/plain": [
       "array([8.54969667, 8.91634372, 6.3446106 , 7.81051362, 9.64025456,\n",
       "       8.69962915, 7.61238585, 6.08468214, 7.51253946, 8.78813228,\n",
       "       9.19262846, 9.37683094, 9.97469738, 6.8214149 , 9.48627863,\n",
       "       6.39462482, 9.53479962, 8.00243802, 5.74980771, 7.25955586,\n",
       "       6.02010252, 9.60114153, 5.10475508, 7.32684245, 9.75698726,\n",
       "       5.60187293, 5.76114478, 9.99835931, 8.76632984, 7.9586159 ,\n",
       "       5.03749447, 8.50278261, 7.62964722, 8.8763803 , 8.58886201,\n",
       "       7.56388688, 5.04738033, 9.25135341, 7.84211018, 6.86081687,\n",
       "       7.41928694, 5.72020432, 5.68663615, 9.54535202, 8.99682274,\n",
       "       9.73020875, 5.67528782, 9.48320419, 6.36984339, 8.15932986,\n",
       "       7.30955357, 8.77274148, 8.43469197, 5.05998506, 9.98470145,\n",
       "       5.54244361, 5.40523189, 6.42552866, 7.74222952, 9.07705839,\n",
       "       6.28509432, 5.44344398, 5.80449349, 7.52988129, 8.80530011,\n",
       "       9.38383331, 7.76666981, 8.02993184, 5.74541313, 9.98741331,\n",
       "       9.13973596, 9.79760764, 6.74861039, 9.29965145, 7.76474194,\n",
       "       8.54482614, 5.21671397, 9.71864493, 6.59423017, 7.88413996,\n",
       "       6.10661903, 6.85740746, 7.963851  , 5.86044887, 6.00288634,\n",
       "       6.96599729, 6.84695998, 9.23942578, 8.10716525, 9.68024518,\n",
       "       8.47245293, 5.31309514, 9.38624474, 5.27037555, 5.20830109,\n",
       "       6.86283991, 9.93140833, 8.04764986, 7.01742482, 8.53081138])"
      ]
     },
     "execution_count": 39,
     "metadata": {},
     "output_type": "execute_result"
    }
   ],
   "source": [
    "np.random.uniform(5,10,100)#генерирует равномерное распределение"
   ]
  },
  {
   "cell_type": "code",
   "execution_count": null,
   "metadata": {},
   "outputs": [],
   "source": []
  }
 ],
 "metadata": {
  "kernelspec": {
   "display_name": "Python 3",
   "language": "python",
   "name": "python3"
  },
  "language_info": {
   "codemirror_mode": {
    "name": "ipython",
    "version": 3
   },
   "file_extension": ".py",
   "mimetype": "text/x-python",
   "name": "python",
   "nbconvert_exporter": "python",
   "pygments_lexer": "ipython3",
   "version": "3.11.2"
  },
  "orig_nbformat": 4
 },
 "nbformat": 4,
 "nbformat_minor": 2
}
